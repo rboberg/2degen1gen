{
 "cells": [
  {
   "cell_type": "code",
   "execution_count": 25,
   "metadata": {
    "collapsed": true
   },
   "outputs": [],
   "source": [
    "import nfldb\n",
    "import json\n",
    "import pandas as pd\n",
    "import datetime"
   ]
  },
  {
   "cell_type": "code",
   "execution_count": 2,
   "metadata": {
    "collapsed": true
   },
   "outputs": [],
   "source": [
    "db = nfldb.connect()"
   ]
  },
  {
   "cell_type": "code",
   "execution_count": 3,
   "metadata": {
    "collapsed": false
   },
   "outputs": [],
   "source": [
    "q = nfldb.Query(db).game(season_year='2015', season_type='Postseason')"
   ]
  },
  {
   "cell_type": "code",
   "execution_count": 40,
   "metadata": {
    "collapsed": false
   },
   "outputs": [],
   "source": [
    "team_file = 'playoff_2016_team_master.json'\n",
    "with open(team_file) as f:    \n",
    "    teams = json.load(f)"
   ]
  },
  {
   "cell_type": "code",
   "execution_count": 19,
   "metadata": {
    "collapsed": false
   },
   "outputs": [],
   "source": [
    "point_file = 'playoff_2016_point_key.json'\n",
    "with open(point_file) as f:    \n",
    "    point_key = json.load(f)"
   ]
  },
  {
   "cell_type": "code",
   "execution_count": 6,
   "metadata": {
    "collapsed": true
   },
   "outputs": [],
   "source": [
    "def player_stats(db, player_args, game_args={}):\n",
    "    # find potential list of players\n",
    "    players = nfldb.Query(db).player(**player_args).as_players()\n",
    "    # get list of player ids\n",
    "    ids = [getattr(pp,'player_id') for pp in players]\n",
    "    \n",
    "    player_data = []\n",
    "    for player in players:\n",
    "        pid = getattr(player, 'player_id')\n",
    "        stats = nfldb.Query(db).game(**game_args).player(player_id=pid).as_aggregate()\n",
    "        if len(stats) == 0:\n",
    "            stats = None\n",
    "        elif len(stats) == 1:\n",
    "            stats = stats[0]\n",
    "        else:\n",
    "            print('something wrong with stats')\n",
    "        player_data += [{'info':player, 'stats':stats}]\n",
    "    \n",
    "    return(player_data)"
   ]
  },
  {
   "cell_type": "code",
   "execution_count": 7,
   "metadata": {
    "collapsed": true
   },
   "outputs": [],
   "source": [
    "def player_points(player_stats, point_key):\n",
    "    rows = []\n",
    "    \n",
    "    for player in player_stats:\n",
    "        stat_key = point_key.keys()\n",
    "        \n",
    "        if player['stats'] is None:\n",
    "            # all stats are 0 if none found\n",
    "            row = {stat: 0 for stat in stat_key}\n",
    "        else:\n",
    "            # otherwise get stats\n",
    "            row = {stat: getattr(player['stats'], stat) for stat in stat_key}\n",
    "        \n",
    "        row['fantasy'] = sum([row[stat] * point_key[stat] for stat in stat_key])\n",
    "        row['full_name'] = player['info'].full_name\n",
    "        row['team'] = player['info'].team\n",
    "        rows += [row]\n",
    "        \n",
    "    return(rows)"
   ]
  },
  {
   "cell_type": "code",
   "execution_count": 8,
   "metadata": {
    "collapsed": false
   },
   "outputs": [],
   "source": [
    "def team_results(teams):\n",
    "    results = {}\n",
    "    for team in teams.keys():\n",
    "        results[team] = []\n",
    "        for p in teams[team]:\n",
    "            ps = player_stats(db, player_args=p, game_args={'season_year':2015, 'season_type':\"Postseason\"})\n",
    "            results[team] += player_points(ps, point_key)\n",
    "    return(results)\n"
   ]
  },
  {
   "cell_type": "code",
   "execution_count": 9,
   "metadata": {
    "collapsed": false
   },
   "outputs": [],
   "source": [
    "def total_points(results):\n",
    "    return({team_name:sum([player['fantasy'] for player in team]) for team_name, team in results.iteritems()})"
   ]
  },
  {
   "cell_type": "code",
   "execution_count": 10,
   "metadata": {
    "collapsed": false
   },
   "outputs": [],
   "source": [
    "def add_points_to_teams(teams):\n",
    "    results = team_results(teams)\n",
    "    for team in teams.keys():\n",
    "        for i in range(len(teams[team])):\n",
    "            teams[team][i].update({'points':results[team][i]['fantasy']})"
   ]
  },
  {
   "cell_type": "code",
   "execution_count": 43,
   "metadata": {
    "collapsed": true
   },
   "outputs": [],
   "source": [
    "def write_teams(teams, write_dir = 'updates_2016', write_current = True):\n",
    "    if write_current:\n",
    "        with open(write_dir + '/current.json', 'w') as f:\n",
    "            json.dump(teams,f)\n",
    "    \n",
    "    time_str = datetime.datetime.now().strftime('%Y_%m_%d_%H_%M_%S')\n",
    "    with open(write_dir + '/' + time_str + '.json', 'w') as f:\n",
    "        json.dump(teams,f)"
   ]
  },
  {
   "cell_type": "code",
   "execution_count": 41,
   "metadata": {
    "collapsed": false
   },
   "outputs": [],
   "source": [
    "add_points_to_teams(teams)"
   ]
  },
  {
   "cell_type": "code",
   "execution_count": 44,
   "metadata": {
    "collapsed": false
   },
   "outputs": [],
   "source": [
    "write_teams(teams)"
   ]
  },
  {
   "cell_type": "code",
   "execution_count": null,
   "metadata": {
    "collapsed": true
   },
   "outputs": [],
   "source": []
  }
 ],
 "metadata": {
  "kernelspec": {
   "display_name": "Python 2",
   "language": "python",
   "name": "python2"
  },
  "language_info": {
   "codemirror_mode": {
    "name": "ipython",
    "version": 2
   },
   "file_extension": ".py",
   "mimetype": "text/x-python",
   "name": "python",
   "nbconvert_exporter": "python",
   "pygments_lexer": "ipython2",
   "version": "2.7.8"
  }
 },
 "nbformat": 4,
 "nbformat_minor": 0
}
